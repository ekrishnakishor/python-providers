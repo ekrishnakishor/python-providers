{
 "cells": [
  {
   "cell_type": "code",
   "execution_count": 6,
   "id": "875748da",
   "metadata": {},
   "outputs": [],
   "source": [
    "def full_name():\n",
    "    allowed = set(\"abcdefghijklmnopqrstuvwxyz .\")\n",
    "    first = input(\"Enter your first name :\")\n",
    "    sec = input(\"Enter your second name :\")\n",
    "    \n",
    "    full = first+' '+sec\n",
    "    \n",
    "    if full and allowed.issuperset(full):\n",
    "        full_name = full\n",
    "        return full_name\n",
    "    else :\n",
    "        return print('Invalid input')"
   ]
  },
  {
   "cell_type": "code",
   "execution_count": 11,
   "id": "3746a254",
   "metadata": {},
   "outputs": [
    {
     "name": "stdout",
     "output_type": "stream",
     "text": [
      "Enter your first name :Rohith\n",
      "Enter your second name :HV\n",
      "Invalid input\n"
     ]
    }
   ],
   "source": [
    "full_name()"
   ]
  },
  {
   "cell_type": "code",
   "execution_count": 21,
   "id": "24df0b86",
   "metadata": {},
   "outputs": [],
   "source": [
    "import pandas as pd\n",
    "import array as ar\n",
    "students = ar.array('i',[])\n",
    "stu_df = pd.DataFrame(students, columns =['Name', 'Age', 'Section'],index =['1', '2', '3', '4'])"
   ]
  },
  {
   "cell_type": "code",
   "execution_count": 30,
   "id": "d353e0d7",
   "metadata": {},
   "outputs": [],
   "source": [
    "stu_df['Name'][0]='Krishna'\n",
    "stu_df['Name'][1]='Rohith'\n",
    "stu_df['Name'][2]='Jithin'\n",
    "stu_df['Name'][3]='Adarsh'\n",
    "stu_df['Age'][0]= 12\n",
    "stu_df['Age'][1]=24\n",
    "stu_df['Age'][2]=24\n",
    "stu_df['Age'][3]=60\n",
    "stu_df['Section'][0]='3rd std '\n",
    "stu_df['Section'][1]='10th'\n",
    "stu_df['Section'][2]='6th'\n",
    "stu_df['Section'][3]='dead'"
   ]
  },
  {
   "cell_type": "code",
   "execution_count": 31,
   "id": "fb7ac3ea",
   "metadata": {},
   "outputs": [
    {
     "data": {
      "text/html": [
       "<div>\n",
       "<style scoped>\n",
       "    .dataframe tbody tr th:only-of-type {\n",
       "        vertical-align: middle;\n",
       "    }\n",
       "\n",
       "    .dataframe tbody tr th {\n",
       "        vertical-align: top;\n",
       "    }\n",
       "\n",
       "    .dataframe thead th {\n",
       "        text-align: right;\n",
       "    }\n",
       "</style>\n",
       "<table border=\"1\" class=\"dataframe\">\n",
       "  <thead>\n",
       "    <tr style=\"text-align: right;\">\n",
       "      <th></th>\n",
       "      <th>Name</th>\n",
       "      <th>Age</th>\n",
       "      <th>Section</th>\n",
       "    </tr>\n",
       "  </thead>\n",
       "  <tbody>\n",
       "    <tr>\n",
       "      <th>1</th>\n",
       "      <td>Krishna</td>\n",
       "      <td>12</td>\n",
       "      <td>3rd std</td>\n",
       "    </tr>\n",
       "    <tr>\n",
       "      <th>2</th>\n",
       "      <td>Rohith</td>\n",
       "      <td>24</td>\n",
       "      <td>10th</td>\n",
       "    </tr>\n",
       "    <tr>\n",
       "      <th>3</th>\n",
       "      <td>Jithin</td>\n",
       "      <td>24</td>\n",
       "      <td>6th</td>\n",
       "    </tr>\n",
       "    <tr>\n",
       "      <th>4</th>\n",
       "      <td>Adarsh</td>\n",
       "      <td>60</td>\n",
       "      <td>dead</td>\n",
       "    </tr>\n",
       "  </tbody>\n",
       "</table>\n",
       "</div>"
      ],
      "text/plain": [
       "      Name Age   Section\n",
       "1  Krishna  12  3rd std \n",
       "2   Rohith  24      10th\n",
       "3   Jithin  24       6th\n",
       "4   Adarsh  60      dead"
      ]
     },
     "execution_count": 31,
     "metadata": {},
     "output_type": "execute_result"
    }
   ],
   "source": [
    "stu_df"
   ]
  },
  {
   "cell_type": "code",
   "execution_count": 44,
   "id": "ac7586d8",
   "metadata": {},
   "outputs": [
    {
     "name": "stdout",
     "output_type": "stream",
     "text": [
      "Column Name : Name\n",
      "Column Contents :  ['Krishna' 'Rohith' 'Jithin' 'Adarsh']\n",
      "Column Name : Age\n",
      "Column Contents :  [12 24 24 60]\n",
      "Column Name : Section\n",
      "Column Contents :  ['3rd std ' '10th' '6th' 'dead']\n"
     ]
    }
   ],
   "source": [
    "for column in stu_df:\n",
    "    columnSeriesObj = stu_df[column]\n",
    "    print(\"Column Name :\", column)\n",
    "    print('Column Contents : ', columnSeriesObj.values)"
   ]
  },
  {
   "cell_type": "code",
   "execution_count": 48,
   "id": "ac12ef9f",
   "metadata": {},
   "outputs": [
    {
     "name": "stdout",
     "output_type": "stream",
     "text": [
      "Enter the column name :sdf\n",
      "invalid column name\n",
      "Enter the column name :Section\n",
      "Column Name : Section\n",
      "Column Contents :  ['3rd std ' '10th' '6th' 'dead']\n",
      "Enter the column name :sd\n",
      "invalid column name\n"
     ]
    }
   ],
   "source": [
    "for column in stu_df:\n",
    "    column = input ('Enter the column name :')\n",
    "    if column == 'Name':\n",
    "        \n",
    "        columnSeriesObj = stu_df[column]\n",
    "        print(\"Column Name :\", column)\n",
    "        print('Column Contents : ', columnSeriesObj.values)\n",
    "    elif column == 'Age':\n",
    "        \n",
    "        columnSeriesObj = stu_df[column]\n",
    "        print(\"Column Name :\", column)\n",
    "        print('Column Contents : ', columnSeriesObj.values)\n",
    "        \n",
    "    elif column == 'Section':\n",
    "        columnSeriesObj = stu_df[column]\n",
    "        print(\"Column Name :\", column)\n",
    "        print('Column Contents : ', columnSeriesObj.values)\n",
    "    else :\n",
    "        print('invalid column name')\n",
    "\n"
   ]
  },
  {
   "cell_type": "code",
   "execution_count": null,
   "id": "2eb65a82",
   "metadata": {},
   "outputs": [],
   "source": []
  },
  {
   "cell_type": "code",
   "execution_count": null,
   "id": "757f57d7",
   "metadata": {},
   "outputs": [],
   "source": []
  }
 ],
 "metadata": {
  "kernelspec": {
   "display_name": "Python 3 (ipykernel)",
   "language": "python",
   "name": "python3"
  },
  "language_info": {
   "codemirror_mode": {
    "name": "ipython",
    "version": 3
   },
   "file_extension": ".py",
   "mimetype": "text/x-python",
   "name": "python",
   "nbconvert_exporter": "python",
   "pygments_lexer": "ipython3",
   "version": "3.9.7"
  }
 },
 "nbformat": 4,
 "nbformat_minor": 5
}
